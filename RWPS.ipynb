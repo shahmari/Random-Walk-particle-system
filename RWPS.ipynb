{
 "metadata": {
  "language_info": {
   "codemirror_mode": {
    "name": "ipython",
    "version": 3
   },
   "file_extension": ".py",
   "mimetype": "text/x-python",
   "name": "python",
   "nbconvert_exporter": "python",
   "pygments_lexer": "ipython3",
   "version": "3.9.6"
  },
  "orig_nbformat": 4,
  "kernelspec": {
   "name": "python3",
   "display_name": "Python 3.9.6 64-bit"
  },
  "interpreter": {
   "hash": "e90483a7cb1e7e22226eb8a680b135918114a425dc58b4d338fc085a691d3c36"
  }
 },
 "nbformat": 4,
 "nbformat_minor": 2,
 "cells": [
  {
   "cell_type": "code",
   "execution_count": 52,
   "source": [
    "import numpy as np\r\n",
    "\r\n",
    "number_of_particle = 10\r\n",
    "len_input = 1\r\n",
    "initial_y = 10\r\n",
    "final_y = 200\r\n",
    "radius = 0.1\r\n",
    "dt = 0.01\r\n"
   ],
   "outputs": [],
   "metadata": {}
  },
  {
   "cell_type": "code",
   "execution_count": 53,
   "source": [
    "def initial_condition(N, L, IY):\r\n",
    "    X0_data = np.random.uniform(-L/2,L/2,N)\r\n",
    "    Y0_data = np.full(N,IY)\r\n",
    "    Vx0_data = np.full(N,0)\r\n",
    "    Vy0_data = np.full(N,0)\r\n",
    "    return (np.stack((X0_data,Y0_data),axis=1),np.stack((Vx0_data,Vy0_data),axis=1))\r\n"
   ],
   "outputs": [],
   "metadata": {}
  },
  {
   "cell_type": "code",
   "execution_count": 54,
   "source": [
    "def projectile_dynamic(pos, vel, dt):\r\n",
    "    g = -10\r\n",
    "    vel[1] = np.add(vel[1],g*dt)\r\n",
    "    pos = np.add(pos,vel*dt)\r\n",
    "    return pos , vel\r\n"
   ],
   "outputs": [],
   "metadata": {}
  },
  {
   "cell_type": "code",
   "execution_count": 56,
   "source": [
    "def hit_sim(pos, vel, N, R, dt):\r\n",
    "    hit_pos = np.round(pos)\r\n",
    "    cal_step_1 = np.power(np.subtract(pos, hit_pos), 2)\r\n",
    "    distance = np.sqrt(np.add(cal_step_1[:, 0], cal_step_1[:, 1]))\r\n",
    "    for i in range(N):\r\n",
    "        condition = (hit_pos[i][0] % 2 == 0 and hit_pos[i][1] % 2 == 0) or (\r\n",
    "            hit_pos[i][0] % 2 == 1 and hit_pos[i][1] % 2 == 1)\r\n",
    "        if distance[i] < 2*R and pos[i][1] < 2*R and condition:\r\n",
    "            Cos = (pos[i][0] - hit_pos[i][0])/(distance[i])\r\n",
    "            Sin = (pos[i][1] - hit_pos[i][1])/(distance[i])\r\n",
    "            Vx_final = (-((vel[i][0]*Cos)+(vel[i][1]*Sin))*Cos) - \\\r\n",
    "                ((-vel[i][0]*Sin)+(vel[i][1]*Cos)*Sin)\r\n",
    "            Vy_final = (-((vel[i][0]*Cos)+(vel[i][1]*Sin))*Sin) + \\\r\n",
    "                ((-vel[i][0]*Sin)+(vel[i][1]*Cos)*Cos)\r\n",
    "            pos[i][0] += Vx_final*dt\r\n",
    "            pos[i][1] += Vy_final*dt\r\n",
    "            vel[i][0] = Vx_final\r\n",
    "            vel[i][1] = Vy_final\r\n",
    "    return pos , vel\r\n"
   ],
   "outputs": [],
   "metadata": {}
  },
  {
   "cell_type": "code",
   "execution_count": 57,
   "source": [
    "Position, Velocity = initial_condition(\r\n",
    "    number_of_particle, len_input, initial_y)\r\n",
    "data = []\r\n",
    "while Position[:, 1] != np.full(number_of_particle, final_y):\r\n",
    "    Position, Velocity = projectile_dynamic(Position, Velocity, dt)\r\n",
    "    Position, Velocity = hit_sim(Position, Velocity, radius, dt)\r\n",
    "    data.append(Position)"
   ],
   "outputs": [
    {
     "output_type": "execute_result",
     "data": {
      "text/plain": [
       "array([ True,  True,  True,  True,  True,  True,  True,  True,  True,\n",
       "        True])"
      ]
     },
     "metadata": {},
     "execution_count": 57
    }
   ],
   "metadata": {}
  },
  {
   "cell_type": "code",
   "execution_count": 58,
   "source": [
    "np.full(10, False)\r\n"
   ],
   "outputs": [
    {
     "output_type": "execute_result",
     "data": {
      "text/plain": [
       "array([False, False, False, False, False, False, False, False, False,\n",
       "       False])"
      ]
     },
     "metadata": {},
     "execution_count": 58
    }
   ],
   "metadata": {}
  },
  {
   "cell_type": "code",
   "execution_count": 61,
   "source": [
    "True*False"
   ],
   "outputs": [
    {
     "output_type": "execute_result",
     "data": {
      "text/plain": [
       "0"
      ]
     },
     "metadata": {},
     "execution_count": 61
    }
   ],
   "metadata": {}
  },
  {
   "cell_type": "code",
   "execution_count": null,
   "source": [],
   "outputs": [],
   "metadata": {}
  }
 ]
}