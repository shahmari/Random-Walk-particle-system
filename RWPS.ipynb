{
 "metadata": {
  "language_info": {
   "codemirror_mode": {
    "name": "ipython",
    "version": 3
   },
   "file_extension": ".py",
   "mimetype": "text/x-python",
   "name": "python",
   "nbconvert_exporter": "python",
   "pygments_lexer": "ipython3",
   "version": "3.9.6"
  },
  "orig_nbformat": 4,
  "kernelspec": {
   "name": "python3",
   "display_name": "Python 3.9.6 64-bit"
  },
  "interpreter": {
   "hash": "e90483a7cb1e7e22226eb8a680b135918114a425dc58b4d338fc085a691d3c36"
  }
 },
 "nbformat": 4,
 "nbformat_minor": 2,
 "cells": [
  {
   "cell_type": "code",
   "execution_count": 52,
   "source": [
    "import numpy as np\r\n",
    "\r\n",
    "number_of_particle = 10\r\n",
    "len_input= 1\r\n",
    "initial_y=10\r\n",
    "final_y=200\r\n",
    "dt=0.01"
   ],
   "outputs": [],
   "metadata": {}
  },
  {
   "cell_type": "code",
   "execution_count": 53,
   "source": [
    "def initial_condition(N, L, IY):\r\n",
    "    X0_data = np.random.uniform(-L/2,L/2,N)\r\n",
    "    Y0_data = np.full(N,IY)\r\n",
    "    Vx0_data = np.full(N,0)\r\n",
    "    Vy0_data = np.full(N,0)\r\n",
    "    return (np.stack((X0_data,Y0_data),axis=1),np.stack((Vx0_data,Vy0_data),axis=1))\r\n"
   ],
   "outputs": [],
   "metadata": {}
  },
  {
   "cell_type": "code",
   "execution_count": 54,
   "source": [
    "def projectile_dynamic(pos, vel, dt):\r\n",
    "    g = -10\r\n",
    "    vel[1] = np.add(vel[1],g*dt)\r\n",
    "    pos = np.add(pos,vel*dt)\r\n",
    "    return pos , vel\r\n"
   ],
   "outputs": [],
   "metadata": {}
  },
  {
   "cell_type": "code",
   "execution_count": 55,
   "source": [
    "def distance_checker(pos):\r\n",
    "    hit_pos = np.round(pos)\r\n",
    "    cal_step_1 = np.power(np.subtract(pos, hit_pos), 2)\r\n",
    "    distance = np.sqrt(np.add(cal_step_1[:, 0], cal_step_1[:, 1]))\r\n",
    "    return distance , hit_pos\r\n"
   ],
   "outputs": [],
   "metadata": {}
  },
  {
   "cell_type": "code",
   "execution_count": 56,
   "source": [
    "def hit_checker(pos, N, R):\r\n",
    "    dist , h_pos = distance_checker(pos)\r\n",
    "    condition = np.full(N, False)\r\n",
    "    for i in range(N):\r\n",
    "        con = (h_pos[i][0] % 2 == 0 and h_pos[i][1] % 2 == 0) or (\r\n",
    "            h_pos[i][0] % 2 == 1 and h_pos[i][1] % 2 == 1)\r\n",
    "        if dist[i] < 2*R and pos[i][1] < 2*R and con:\r\n",
    "            condition[i] = True\r\n",
    "    return condition\r\n"
   ],
   "outputs": [],
   "metadata": {}
  },
  {
   "cell_type": "code",
   "execution_count": 57,
   "source": [
    "Position, Velocity = initial_condition(\r\n",
    "    number_of_particle, len_input, initial_y)\r\n",
    "while Position[:, 1] != np.full(number_of_particle, final_y):\r\n",
    "    Position, Velocity = projectile_dynamic(Position, Velocity, dt)\r\n"
   ],
   "outputs": [
    {
     "output_type": "execute_result",
     "data": {
      "text/plain": [
       "array([ True,  True,  True,  True,  True,  True,  True,  True,  True,\n",
       "        True])"
      ]
     },
     "metadata": {},
     "execution_count": 57
    }
   ],
   "metadata": {}
  },
  {
   "cell_type": "code",
   "execution_count": 58,
   "source": [
    "np.full(10, False)\r\n"
   ],
   "outputs": [
    {
     "output_type": "execute_result",
     "data": {
      "text/plain": [
       "array([False, False, False, False, False, False, False, False, False,\n",
       "       False])"
      ]
     },
     "metadata": {},
     "execution_count": 58
    }
   ],
   "metadata": {}
  },
  {
   "cell_type": "code",
   "execution_count": null,
   "source": [],
   "outputs": [],
   "metadata": {}
  },
  {
   "cell_type": "code",
   "execution_count": null,
   "source": [],
   "outputs": [],
   "metadata": {}
  }
 ]
}