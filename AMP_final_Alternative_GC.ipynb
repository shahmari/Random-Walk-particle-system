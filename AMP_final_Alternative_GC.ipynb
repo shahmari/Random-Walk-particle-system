{
  "nbformat": 4,
  "nbformat_minor": 0,
  "metadata": {
    "language_info": {
      "codemirror_mode": {
        "name": "ipython",
        "version": 3
      },
      "file_extension": ".py",
      "mimetype": "text/x-python",
      "name": "python",
      "nbconvert_exporter": "python",
      "pygments_lexer": "ipython3",
      "version": "3.8.5-final"
    },
    "orig_nbformat": 2,
    "kernelspec": {
      "name": "python38564bit2c884e81199e4b2faf6562d451499a50",
      "display_name": "Python 3.8.5 64-bit",
      "language": "python"
    },
    "colab": {
      "name": "AMP-final-Alternative.ipynb",
      "provenance": []
    },
    "accelerator": "TPU"
  },
  "cells": [
    {
      "cell_type": "code",
      "metadata": {
        "id": "Wp3HLmLlEqfo"
      },
      "source": [
        "import math as mt\n",
        "import random as rm\n",
        "import matplotlib.pyplot as plt\n",
        "import numpy as np\n",
        "import scipy.stats as stats\n",
        "import scipy\n",
        "import matplotlib.mlab as mlab\n",
        "from scipy.stats import norm"
      ],
      "execution_count": null,
      "outputs": []
    },
    {
      "cell_type": "code",
      "metadata": {
        "id": "n9c8Lf30Zah5"
      },
      "source": [
        "y=4.9\n",
        "nn=20000\n",
        "yf=-550\n",
        "n=0\n",
        "g=-5\n",
        "r=0.1\n",
        "dt=0.01\n",
        "x1=0\n",
        "y1=0\n",
        "xll=[]"
      ],
      "execution_count": null,
      "outputs": []
    },
    {
      "cell_type": "code",
      "metadata": {
        "id": "7UrrkCr5Eqfz"
      },
      "source": [
        "def csn(x,y,r) :\n",
        "    xr=round(x)\n",
        "    yr=round(y)\n",
        "    if mt.sqrt((x-xr)**2+(y-yr)**2)<=2*r :\n",
        "        if (xr%2==0 and yr%2==0) or (xr%2==1 and yr%2==1) :\n",
        "            o=1\n",
        "        else :\n",
        "            o=0\n",
        "    else:\n",
        "        o=0\n",
        "    if y>2*r :\n",
        "        o=0\n",
        "    return(o)"
      ],
      "execution_count": null,
      "outputs": []
    },
    {
      "cell_type": "code",
      "metadata": {
        "id": "ddWrgxQcEqf0"
      },
      "source": [
        "def aht(x,y,x1,y1) :\n",
        "    xr=round(x)\n",
        "    yr=round(y)\n",
        "    sqrt=mt.sqrt((x-xr)**2+(y-yr)**2)\n",
        "    if sqrt==0 :\n",
        "        return(x,y,x1f,y1f)\n",
        "    cs=(x-xr)/(sqrt)\n",
        "    sn=(y-yr)/(sqrt)\n",
        "    x1p=-((x1*cs)+(y1*sn))\n",
        "    y1p=(-x1*sn)+(y1*cs)\n",
        "    x1f=(x1p*cs)-(y1p*sn)\n",
        "    y1f=(x1p*sn)+(y1p*cs)\n",
        "    y=y+(y1f*dt)\n",
        "    x=x+(x1f*dt)\n",
        "    return(x,y,x1f,y1f)"
      ],
      "execution_count": null,
      "outputs": []
    },
    {
      "cell_type": "code",
      "metadata": {
        "id": "u0ii3_tvEqf0"
      },
      "source": [
        "def pjn(x,y,x1,y1) :\n",
        "    while y>=yf and csn(x,y,r)==0 :\n",
        "        x=x+(x1*dt)\n",
        "        y1=y1+(g*dt)\n",
        "        y=y+(y1*dt)\n",
        "    return(x,y,x1,y1)"
      ],
      "execution_count": null,
      "outputs": []
    },
    {
      "cell_type": "code",
      "metadata": {
        "id": "i1Qdm3zyEqf1"
      },
      "source": [
        "def pps(n) :\n",
        "    i=50*n/nn\n",
        "    a=50-int(i)\n",
        "    b=(int(i)+1)*\"🟩\"\n",
        "    c=(a-1)*\"🟨\"\n",
        "    print(b,end=\"\")\n",
        "    print(c, end=\"\")\n"
      ],
      "execution_count": null,
      "outputs": []
    },
    {
      "cell_type": "code",
      "metadata": {
        "colab": {
          "base_uri": "https://localhost:8080/"
        },
        "id": "E1fq9kLoEqf1",
        "outputId": "522d5fe7-5a48-4092-a8f2-f69688a6c66e"
      },
      "source": [
        "while n<nn :\n",
        "    x=rm.uniform(-0.19,0.19)\n",
        "    while y>=yf :\n",
        "        (x,y,x1,y1)=pjn(x,y,x1,y1)\n",
        "        (x,y,x1,y1)=aht(x,y,x1,y1)\n",
        "    xll.append(x)\n",
        "    P=n*100/nn\n",
        "    PP= \"{:.2f}\".format(P)\n",
        "    print(\"\\r\",end=\"\")\n",
        "    print(\"processes\",PP,\"% completed:   \",end=\"\")\n",
        "    pps(n)\n",
        "    y=4.9\n",
        "    x1=0\n",
        "    y1=0\n",
        "    n=n+1\n",
        "    if n==nn+1:\n",
        "        break\n",
        "print(\"\\r\",\"computing successfully completed!   \",50*\"🟦\")"
      ],
      "execution_count": null,
      "outputs": []
    },
    {
      "cell_type": "code",
      "metadata": {
        "id": "YiK7sbaUEqf2"
      },
      "source": [
        "num_bins = 150\n",
        "plt.grid(axis='y')\n",
        "n, bins, patches = plt.hist(xll, num_bins, facecolor='navy', alpha=0.75)\n",
        "plt.show()\n",
        "h=sorted(xll)\n",
        "fit = stats.norm.pdf(h, np.mean(h), np.std(h))\n",
        "plt.plot(h,fit)\n",
        "n, bins, patches = plt.hist(xll, num_bins,normed=1, histtype='step', facecolor='red', alpha=1)\n",
        "n, bins, patches = plt.hist(xll, num_bins,normed=1, facecolor='red', alpha=0.25)\n",
        "plt.show()"
      ],
      "execution_count": null,
      "outputs": []
    },
    {
      "cell_type": "code",
      "execution_count": null,
      "metadata": {},
      "outputs": [],
      "source": []
    }
  ]
}